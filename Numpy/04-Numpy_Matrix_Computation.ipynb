{
 "cells": [
  {
   "cell_type": "markdown",
   "id": "ee21f3d0",
   "metadata": {},
   "source": [
    "<div align=\"center\">\n",
    "  <img src=\"https://upload.wikimedia.org/wikipedia/commons/3/31/NumPy_logo_2020.svg\" alt=\"لوگو\" width=\"500\">\n",
    "</div>\n",
    "\n",
    "\n",
    "<div dir='rtl'>\n",
    "\n",
    "# آموزش کاربردی NUMPY با محوریت علوم داده و محاسبات عددی\n",
    "\n",
    "## **جلسه چهارم** محاسبات عددی و کاربرد در هوش مصنوعی\n",
    "\n",
    "### مدت زمان مطالعه  \n",
    "\n",
    "مدت زمان مورد نیاز برای مطالعه این صفحه **20 تا 30 دقیقه** است. این مدت زمان بسته به سطح آشنایی شما با **Python** و موضوعات مرتبط ممکن است متغیر باشد.  \n",
    "\n",
    "\n",
    "**تهیه‌کننده:** سجاد چمن‌آرا  \n",
    "\n",
    "---\n",
    "\n"
   ]
  }
 ],
 "metadata": {
  "language_info": {
   "name": "python"
  }
 },
 "nbformat": 4,
 "nbformat_minor": 5
}
