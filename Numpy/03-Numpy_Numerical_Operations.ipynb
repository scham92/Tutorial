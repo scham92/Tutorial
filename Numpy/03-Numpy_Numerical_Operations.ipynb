{
 "cells": [
  {
   "cell_type": "markdown",
   "id": "3f09b29e",
   "metadata": {},
   "source": [
    "<div align=\"center\">\n",
    "  <img src=\"https://upload.wikimedia.org/wikipedia/commons/3/31/NumPy_logo_2020.svg\" alt=\"لوگو\" width=\"500\">\n",
    "</div>\n",
    "\n",
    "\n",
    "<div dir='rtl'>\n",
    "\n",
    "# آموزش کاربردی NUMPY با محوریت علوم داده و محاسبات عددی\n",
    "\n",
    "## **جلسه سوم** عملیات عددی و برداری\n",
    "\n",
    "### مدت زمان مطالعه  \n",
    "\n",
    "مدت زمان مورد نیاز برای مطالعه این صفحه **20 تا 30 دقیقه** است. این مدت زمان بسته به سطح آشنایی شما با **Python** و موضوعات مرتبط ممکن است متغیر باشد.  \n",
    "\n",
    "\n",
    "**تهیه‌کننده:** سجاد چمن‌آرا  \n",
    "\n",
    "---\n",
    "\n",
    "### **🔹 عملیات عددی روی آرایه‌های NumPy**\n",
    "\n",
    "یکی از قابلیت‌های **اصلی** NumPy، انجام **محاسبات عددی سریع و بهینه** روی آرایه‌هاست. برخلاف لیست‌های معمولی Python، آرایه‌های NumPy می‌توانند عملیات ریاضی را بدون نیاز به حلقه‌ها و با **حداکثر سرعت** اجرا کنند.\n",
    "\n",
    "### **🔹 انجام محاسبات عددی سریع و بهینه در NumPy**\n",
    "\n",
    "یکی از مزایای **اصلی** NumPy، اجرای **محاسبات عددی بدون حلقه‌های کند `for`** است. این کتابخانه به شما امکان می‌دهد عملیات ریاضی را به‌صورت **برداری** انجام دهید، که به **سرعت و بهینه‌سازی مصرف حافظه** کمک می‌کند.\n",
    "\n",
    "---\n",
    "\n",
    "### **📌 ۱. جمع (`add`) و تفریق (`subtract`)**\n",
    "🔹 جمع و تفریق مقدار ثابت یا دو آرایه به **صورت برداری**:\n",
    "\n",
    "</div>"
   ]
  },
  {
   "cell_type": "code",
   "execution_count": 1,
   "id": "d58cf5ea",
   "metadata": {},
   "outputs": [
    {
     "name": "stdout",
     "output_type": "stream",
     "text": [
      "[15 25 35 45]\n",
      "[ 0 10 20 30]\n"
     ]
    }
   ],
   "source": [
    "import numpy as np\n",
    "\n",
    "arr = np.array([10, 20, 30, 40])\n",
    "\n",
    "print(np.add(arr, 5))  # افزودن ۵ به تمام عناصر → [15 25 35 45]\n",
    "print(np.subtract(arr, 10))  # کاهش ۱۰ از هر مقدار → [0 10 20 30]"
   ]
  },
  {
   "cell_type": "markdown",
   "id": "3717cc52",
   "metadata": {},
   "source": [
    "<div dir='rtl'; align='right'>\n",
    "\n",
    "✅ **مزیت:** نیازی به حلقه‌های `for` نیست! NumPy عملیات را **بهینه** اجرا می‌کند.\n",
    "\n",
    "---\n",
    "\n",
    "### **📌 ۲. ضرب (`multiply`) و تقسیم (`divide`)**\n",
    "🔹 ضرب و تقسیم مستقیم بر روی **تمام عناصر آرایه‌ها**:\n",
    "\n",
    "</div>"
   ]
  },
  {
   "cell_type": "code",
   "execution_count": 2,
   "id": "2c71b6e2",
   "metadata": {},
   "outputs": [
    {
     "name": "stdout",
     "output_type": "stream",
     "text": [
      "[20 40 60 80]\n",
      "[2. 4. 6. 8.]\n"
     ]
    }
   ],
   "source": [
    "print(np.multiply(arr, 2))  # ضرب هر مقدار در ۲ → [20 40 60 80]\n",
    "print(np.divide(arr, 5))  # تقسیم هر مقدار بر ۵ → [2. 4. 6. 8.]"
   ]
  },
  {
   "cell_type": "markdown",
   "id": "3d148e4a",
   "metadata": {},
   "source": [
    "<div dir='rtl'; align='right'>\n",
    "\n",
    "🚀 **بسیار سریع‌تر از روش‌های سنتی در Python!**\n",
    "\n",
    "---\n",
    "\n",
    "### **📌 ۳. محاسبات برداری روی دو آرایه**\n",
    "🔹 اعمال عملیات روی **دو آرایه هم‌اندازه**:\n",
    "\n",
    "</div>"
   ]
  },
  {
   "cell_type": "code",
   "execution_count": 3,
   "id": "6e46f1ef",
   "metadata": {},
   "outputs": [
    {
     "name": "stdout",
     "output_type": "stream",
     "text": [
      "[ 6  8 10 12]\n",
      "[ 5 12 21 32]\n",
      "[5.         3.         2.33333333 2.        ]\n"
     ]
    }
   ],
   "source": [
    "arr1 = np.array([1, 2, 3, 4])\n",
    "arr2 = np.array([5, 6, 7, 8])\n",
    "\n",
    "print(np.add(arr1, arr2))  # جمع دو آرایه → [6 8 10 12]\n",
    "print(np.multiply(arr1, arr2))  # ضرب عنصر به عنصر → [5 12 21 32]\n",
    "print(np.divide(arr2, arr1))  # تقسیم عنصر به عنصر → [5.0 3.0 2.333 2.0]"
   ]
  },
  {
   "cell_type": "markdown",
   "id": "2cdaa655",
   "metadata": {},
   "source": [
    "<div dir='rtl'; align='right'>\n",
    "\n",
    "✅ **کاربرد مهم در شبکه‌های عصبی و پردازش تصویر!**\n",
    "\n",
    "---\n",
    "\n",
    "### **📌 ۴. انجام عملیات ریاضی پیشرفته**\n",
    "🔹 می‌توان عملیات پیچیده را مستقیماً روی آرایه‌های NumPy اجرا کرد:\n",
    "\n",
    "</div>"
   ]
  },
  {
   "cell_type": "code",
   "execution_count": 4,
   "id": "2a8da487",
   "metadata": {},
   "outputs": [
    {
     "name": "stdout",
     "output_type": "stream",
     "text": [
      "[ 1  4  9 16]\n",
      "[1.         1.41421356 1.73205081 2.        ]\n",
      "[0.         0.69314718 1.09861229 1.38629436]\n"
     ]
    }
   ],
   "source": [
    "arr = np.array([1, 2, 3, 4])\n",
    "\n",
    "print(np.power(arr, 2))  # توان دوم → [1 4 9 16]\n",
    "print(np.sqrt(arr))  # جذر → [1. 1.41 1.73 2.]\n",
    "print(np.log(arr))  # لگاریتم → [0. 0.69 1.09 1.38]"
   ]
  },
  {
   "cell_type": "markdown",
   "id": "25189e05",
   "metadata": {},
   "source": [
    "<div dir='rtl'; align='right'>\n",
    "\n",
    "📌 **NumPy بهینه‌ترین روش برای پردازش‌های ریاضی پیشرفته است!**\n",
    "\n",
    "---\n",
    "\n",
    "### **🚀 نتیجه‌گیری**\n",
    "با استفاده از **محاسبات برداری، عملیات روی آرایه‌ها و پردازش عددی بهینه**، NumPy سرعت و کارایی پردازش داده‌ها را **چندین برابر** افزایش می‌دهد.\n",
    "\n",
    "آیا مایلید درباره **عملیات برداری در شبکه‌های عصبی** بیشتر صحبت کنیم؟ 😊\n",
    "\n",
    "---\n",
    "\n",
    "</div>"
   ]
  },
  {
   "cell_type": "markdown",
   "id": "1e19b586",
   "metadata": {},
   "source": [
    "<div dir='rtl'; align='right'>\n",
    "\n",
    "### **🔹 محاسبات آماری در NumPy**\n",
    "\n",
    "NumPy ابزارهای قدرتمندی برای انجام **محاسبات آماری** دارد که در تحلیل داده‌ها، یادگیری ماشین و بهینه‌سازی مدل‌ها بسیار **کاربردی** هستند. با استفاده از توابع NumPy، می‌توان داده‌ها را **به‌صورت برداری و بهینه** پردازش کرد.\n",
    "\n",
    "---\n",
    "\n",
    "### **📌 ۱. محاسبه میانگین (`mean`)**\n",
    "🔹 **میانگین** یک مجموعه داده نشان‌دهنده مقدار **متوسط** آن است:\n",
    "\n",
    "</div>"
   ]
  },
  {
   "cell_type": "code",
   "execution_count": 5,
   "id": "7ff6604a",
   "metadata": {},
   "outputs": [
    {
     "name": "stdout",
     "output_type": "stream",
     "text": [
      "30.0\n"
     ]
    }
   ],
   "source": [
    "import numpy as np\n",
    "\n",
    "arr = np.array([10, 20, 30, 40, 50])\n",
    "\n",
    "mean_value = np.mean(arr)\n",
    "print(mean_value)  # خروجی: 30.0"
   ]
  },
  {
   "cell_type": "markdown",
   "id": "1e5dfdd2",
   "metadata": {},
   "source": [
    "<div dir='rtl'; align='right'>\n",
    "\n",
    "\n",
    "📌 **کاربرد:** در **یادگیری ماشین** برای نرمال‌سازی داده‌ها استفاده می‌شود.\n",
    "\n",
    "---\n",
    "\n",
    "### **📌 ۲. محاسبه واریانس (`var`)**\n",
    "🔹 **واریانس** میزان **پراکنده بودن داده‌ها** را نشان می‌دهد:\n",
    "\n",
    "</div>"
   ]
  },
  {
   "cell_type": "code",
   "execution_count": 6,
   "id": "19508cf7",
   "metadata": {},
   "outputs": [
    {
     "name": "stdout",
     "output_type": "stream",
     "text": [
      "200.0\n"
     ]
    }
   ],
   "source": [
    "variance_value = np.var(arr)\n",
    "print(variance_value)  # خروجی: 200.0"
   ]
  },
  {
   "cell_type": "markdown",
   "id": "e02d25de",
   "metadata": {},
   "source": [
    "<div dir='rtl'; align='right'>\n",
    "\n",
    "\n",
    "📌 **واریانس بالا** یعنی داده‌ها پراکندگی زیادی دارند.\n",
    "\n",
    "---\n",
    "\n",
    "### **📌 ۳. محاسبه انحراف معیار (`std`)**\n",
    "🔹 **انحراف معیار** نشان‌دهنده میزان **تفاوت داده‌ها از میانگین** است:\n",
    "\n",
    "</div>"
   ]
  },
  {
   "cell_type": "code",
   "execution_count": 7,
   "id": "f1319f6b",
   "metadata": {},
   "outputs": [
    {
     "name": "stdout",
     "output_type": "stream",
     "text": [
      "14.142135623730951\n"
     ]
    }
   ],
   "source": [
    "std_value = np.std(arr)\n",
    "print(std_value)  # خروجی: 14.14"
   ]
  },
  {
   "cell_type": "markdown",
   "id": "ae973abb",
   "metadata": {},
   "source": [
    "<div dir='rtl'; align='right'>\n",
    "\n",
    "📌 **در یادگیری ماشین** برای **معیارسازی داده‌ها** استفاده می‌شود.\n",
    "\n",
    "---\n",
    "\n",
    "### **📌 ۴. محاسبات آماری در ماتریس‌های چندبعدی**\n",
    "🔹 محاسبه میانگین، واریانس و انحراف معیار برای **هر ستون یا هر ردیف**:\n",
    "\n",
    "</div>"
   ]
  },
  {
   "cell_type": "code",
   "execution_count": 8,
   "id": "59a3f4cd",
   "metadata": {},
   "outputs": [
    {
     "name": "stdout",
     "output_type": "stream",
     "text": [
      "[2.5 3.5 4.5]\n",
      "[0.66666667 0.66666667]\n",
      "[1.5 1.5 1.5]\n"
     ]
    }
   ],
   "source": [
    "matrix = np.array([[1, 2, 3], [4, 5, 6]])\n",
    "\n",
    "print(np.mean(matrix, axis=0))  # میانگین هر ستون → [2.5 3.5 4.5]\n",
    "print(np.var(matrix, axis=1))   # واریانس هر ردیف → [0.66 0.66]\n",
    "print(np.std(matrix, axis=0))   # انحراف معیار هر ستون → [1.5 1.5 1.5]"
   ]
  },
  {
   "cell_type": "markdown",
   "id": "9903257f",
   "metadata": {},
   "source": [
    "<div dir='rtl'; align='right'>\n",
    "\n",
    "\n",
    "🚀 **کاربردی در پردازش داده‌های چندبعدی و تحلیل آماری!**\n",
    "\n",
    "---\n",
    "\n",
    "### **🚀 نتیجه‌گیری**\n",
    "با استفاده از **`mean`، `var` و `std`**، می‌توان داده‌ها را تحلیل کرد و اطلاعات **مهمی درباره پراکندگی و رفتار داده‌ها** به دست آورد.\n",
    "\n",
    "\n",
    "</div>"
   ]
  }
 ],
 "metadata": {
  "kernelspec": {
   "display_name": "Python 3",
   "language": "python",
   "name": "python3"
  },
  "language_info": {
   "codemirror_mode": {
    "name": "ipython",
    "version": 3
   },
   "file_extension": ".py",
   "mimetype": "text/x-python",
   "name": "python",
   "nbconvert_exporter": "python",
   "pygments_lexer": "ipython3",
   "version": "3.12.10"
  }
 },
 "nbformat": 4,
 "nbformat_minor": 5
}
