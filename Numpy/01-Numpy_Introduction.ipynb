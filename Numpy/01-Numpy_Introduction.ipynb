{
 "cells": [
  {
   "cell_type": "markdown",
   "id": "abd8361f",
   "metadata": {},
   "source": [
    "<div align=\"center\">\n",
    "  <img src=\"https://upload.wikimedia.org/wikipedia/commons/3/31/NumPy_logo_2020.svg\" alt=\"لوگو\" width=\"500\">\n",
    "</div>\n",
    "\n",
    "\n",
    "<div dir='rtl'>\n",
    "\n",
    "# آموزش کاربردی NUMPY با محوریت علوم داده و محاسبات عددی\n",
    "\n",
    "## **جلسه اول** مقدمه و آموزش نصب و راه اندازی\n",
    "\n",
    "### مدت زمان مطالعه  \n",
    "\n",
    "مدت زمان مورد نیاز برای مطالعه این صفحه **20 تا 30 دقیقه** است. این مدت زمان بسته به سطح آشنایی شما با **Python** و موضوعات مرتبط ممکن است متغیر باشد.  \n",
    "\n",
    "\n",
    "**تهیه‌کننده:** سجاد چمن‌آرا  \n",
    "\n",
    "---\n",
    "\n",
    "</div>"
   ]
  },
  {
   "cell_type": "markdown",
   "id": "a9fad74e",
   "metadata": {},
   "source": [
    "<div dir='rtl'>\n",
    "\n",
    "### **نصب و راه‌اندازی NumPy در Jupyter Notebook و Google Colab**\n",
    "\n",
    "#### **۱. نصب NumPy در Jupyter Notebook**\n",
    "**Jupyter Notebook** یک محیط محبوب برای اجرای **کدهای پایتون** است که از NumPy پشتیبانی می‌کند. برای نصب NumPy در آن:\n",
    "\n",
    "1️⃣ ابتدا یک **سلول جدید** در Jupyter Notebook باز کنید.\n",
    "\n",
    "2️⃣ دستور زیر را اجرا کنید:\n",
    "\n",
    "</div>"
   ]
  },
  {
   "cell_type": "code",
   "execution_count": 8,
   "id": "ff5f286f",
   "metadata": {},
   "outputs": [
    {
     "name": "stdout",
     "output_type": "stream",
     "text": [
      "Defaulting to user installation because normal site-packages is not writeable\n",
      "Requirement already satisfied: numpy in c:\\users\\kara\\appdata\\local\\packages\\pythonsoftwarefoundation.python.3.12_qbz5n2kfra8p0\\localcache\\local-packages\\python312\\site-packages (2.3.0)\n"
     ]
    }
   ],
   "source": [
    "!pip install numpy"
   ]
  },
  {
   "cell_type": "markdown",
   "id": "6fe82e6b",
   "metadata": {},
   "source": [
    "<div dir='rtl'>\n",
    "\n",
    "✅ با اجرای این دستور، **آخرین نسخه NumPy** نصب شده و آماده استفاده خواهد بود.\n",
    "\n",
    "3️⃣ **تست نصب:** پس از نصب، کد زیر را اجرا کنید تا از صحت نصب NumPy مطمئن شوید:\n",
    "\n",
    "</div>"
   ]
  },
  {
   "cell_type": "code",
   "execution_count": 9,
   "id": "25f03e71",
   "metadata": {},
   "outputs": [
    {
     "name": "stdout",
     "output_type": "stream",
     "text": [
      "2.3.0\n"
     ]
    }
   ],
   "source": [
    "import numpy as np\n",
    "print(np.__version__)"
   ]
  },
  {
   "cell_type": "markdown",
   "id": "8b563f4f",
   "metadata": {},
   "source": [
    "<div dir='rtl'>\n",
    "\n",
    "📌 این کد نسخه نصب‌شده NumPy را نمایش می‌دهد.\n",
    "\n",
    "---\n",
    "\n",
    "</div>"
   ]
  },
  {
   "cell_type": "markdown",
   "id": "dd2a4437",
   "metadata": {},
   "source": [
    "<div dir='rtl'>\n",
    "\n",
    "#### **۲. استفاده از NumPy در Google Colab**\n",
    "**Google Colab** نیازی به نصب دستی NumPy ندارد، زیرا به صورت **پیش‌فرض** آن را شامل می‌شود. اما در صورتی که بخواهید نسخه جدیدتری را نصب کنید:\n",
    "\n",
    "1️⃣ یک سلول جدید در Google Colab ایجاد کنید.\n",
    "\n",
    "2️⃣ دستور نصب را اجرا کنید:\n",
    "\n",
    "</div>"
   ]
  },
  {
   "cell_type": "code",
   "execution_count": 10,
   "id": "37e0d0fb",
   "metadata": {},
   "outputs": [
    {
     "name": "stdout",
     "output_type": "stream",
     "text": [
      "Defaulting to user installation because normal site-packages is not writeable\n",
      "Requirement already satisfied: numpy in c:\\users\\kara\\appdata\\local\\packages\\pythonsoftwarefoundation.python.3.12_qbz5n2kfra8p0\\localcache\\local-packages\\python312\\site-packages (2.3.0)\n"
     ]
    }
   ],
   "source": [
    "!pip install numpy --upgrade"
   ]
  },
  {
   "cell_type": "markdown",
   "id": "e0d23ae3",
   "metadata": {},
   "source": [
    "<div dir='rtl'>\n",
    "\n",
    "✅ این دستور نسخه جدید NumPy را نصب یا به‌روزرسانی می‌کند.\n",
    "\n",
    "3️⃣ برای تست اجرا از کد زیر استفاده کنید:\n",
    "\n",
    "\n",
    "</div>"
   ]
  },
  {
   "cell_type": "code",
   "execution_count": 11,
   "id": "2236f3dd",
   "metadata": {},
   "outputs": [
    {
     "name": "stdout",
     "output_type": "stream",
     "text": [
      "[1 2 3]\n"
     ]
    }
   ],
   "source": [
    "import numpy as np\n",
    "print(np.array([1, 2, 3]))"
   ]
  },
  {
   "cell_type": "markdown",
   "id": "9e76b43b",
   "metadata": {},
   "source": [
    "<div dir='rtl'>\n",
    "\n",
    "📌 اگر آرایه `[1, 2, 3]` نمایش داده شد، یعنی **NumPy به درستی نصب شده است.**\n",
    "\n",
    "---\n",
    "\n",
    "</div>"
   ]
  },
  {
   "cell_type": "markdown",
   "id": "001690b5",
   "metadata": {},
   "source": [
    "<div dir='rtl'>\n",
    "\n",
    "### **معرفی NumPy و تفاوت آن با لیست‌های معمولی Python**\n",
    "\n",
    "**NumPy** (Numeric Python) یکی از قدرتمندترین کتابخانه‌های پایتون برای **محاسبات عددی** و پردازش **داده‌های حجیم** است. این کتابخانه پایه‌ی بسیاری از **الگوریتم‌های هوش مصنوعی، پردازش تصویر، داده‌کاوی و یادگیری ماشین** محسوب می‌شود.\n",
    "\n",
    "---\n",
    "\n",
    "### **🔹 چرا NumPy؟**\n",
    "لیست‌های معمولی پایتون (`list`) ساختار پایه‌ای دارند اما در پردازش‌های سنگین با محدودیت‌هایی مواجه می‌شوند:\n",
    "- **عملکرد ضعیف‌تر:** لیست‌های Python بهینه نیستند و هنگام پردازش داده‌های حجیم، سرعت آنها کاهش می‌یابد.\n",
    "- **مصرف حافظه بیشتر:** آرایه‌های NumPy مقدار **کمتری** از حافظه نسبت به لیست‌های Python اشغال می‌کنند.\n",
    "- **توابع علمی و عددی پیشرفته:** NumPy شامل **عملیات ماتریسی، محاسبات برداری، توابع ریاضی و آماری** است که در لیست‌های معمولی Python وجود ندارد.\n",
    "- **Broadcasting:** قابلیت پردازش **هم‌زمان** مقادیر بدون نیاز به حلقه‌های `for`، که **سرعت اجرای کدها را افزایش** می‌دهد.\n",
    "\n",
    "---\n",
    "\n",
    "### **📌 تفاوت NumPy و لیست‌های معمولی Python**\n",
    "\n",
    "<div dir='ltr'; align='center'>\n",
    "\n",
    "| ویژگی               | لیست Python | NumPy |\n",
    "|----------------------|------------|-------|\n",
    "| **سرعت اجرا**       | کندتر | سریع‌تر (C-based) |\n",
    "| **مصرف حافظه**      | بیشتر | بهینه‌تر |\n",
    "| **توابع ریاضی**    | محدود | توابع پیشرفته |\n",
    "| **Broadcasting** | ندارد | دارد |\n",
    "| **محاسبات برداری** | ندارد | دارد |\n",
    "| **استفاده در یادگیری ماشین** | نامناسب | بسیار کاربردی |\n",
    "\n",
    "</div>\n",
    "\n",
    "---\n",
    "\n",
    "### **🔹 مثال عملی**\n",
    "**➤ لیست Python:**\n",
    "\n",
    "</div>"
   ]
  },
  {
   "cell_type": "code",
   "execution_count": 12,
   "id": "ab241d78",
   "metadata": {},
   "outputs": [
    {
     "name": "stdout",
     "output_type": "stream",
     "text": [
      "[1, 4, 9, 16]\n"
     ]
    }
   ],
   "source": [
    "lst = [1, 2, 3, 4]\n",
    "squared_lst = [x**2 for x in lst]\n",
    "print(squared_lst)"
   ]
  },
  {
   "cell_type": "markdown",
   "id": "21140abe",
   "metadata": {},
   "source": [
    "<div dir='rtl'>\n",
    "\n",
    "⏳ زمان اجرا: **کندتر** به دلیل استفاده از حلقه `for`.\n",
    "\n",
    "**➤ NumPy:**\n",
    "\n",
    "</div>"
   ]
  },
  {
   "cell_type": "code",
   "execution_count": 13,
   "id": "d2f566bc",
   "metadata": {},
   "outputs": [
    {
     "name": "stdout",
     "output_type": "stream",
     "text": [
      "[ 1  4  9 16]\n"
     ]
    }
   ],
   "source": [
    "import numpy as np\n",
    "arr = np.array([1, 2, 3, 4])\n",
    "squared_arr = arr**2\n",
    "print(squared_arr)"
   ]
  },
  {
   "cell_type": "markdown",
   "id": "911262ba",
   "metadata": {},
   "source": [
    "<div dir='rtl'>\n",
    "\n",
    "⚡ زمان اجرا: **بسیار سریع‌تر** به دلیل استفاده از پردازش برداری.\n",
    "\n",
    "---\n",
    "\n",
    "</div>"
   ]
  },
  {
   "cell_type": "markdown",
   "id": "608d86e1",
   "metadata": {},
   "source": [
    "<div dir='rtl'>\n",
    "\n",
    "### **🔹 بهینه‌سازی عملکرد محاسبات عددی با NumPy**\n",
    "\n",
    "**NumPy** به دلیل پیاده‌سازی مبتنی بر زبان **C**، عملکرد فوق‌العاده‌ای در پردازش داده‌های **عددی و ماتریسی** دارد. با این حال، برای **بهینه‌سازی محاسبات** و افزایش سرعت اجرا، می‌توان از چندین روش مؤثر استفاده کرد.\n",
    "\n",
    "---\n",
    "\n",
    "### **📌 ۱. استفاده از بردارسازی (Vectorization)**\n",
    "در پایتون، اجرای حلقه‌های `for` باعث کاهش سرعت می‌شود. **NumPy** با پردازش برداری (`vectorization`) این مشکل را حل می‌کند.\n",
    "\n",
    "✍ **➤ مثال بدون NumPy (کُند):**\n",
    "\n",
    "</div>"
   ]
  },
  {
   "cell_type": "code",
   "execution_count": 14,
   "id": "a6c4187b",
   "metadata": {},
   "outputs": [
    {
     "name": "stdout",
     "output_type": "stream",
     "text": [
      "[1, 4, 9, 16, 25]\n"
     ]
    }
   ],
   "source": [
    "data = [1, 2, 3, 4, 5]\n",
    "squared_data = [x**2 for x in data]  # اجرای حلقه برای هر مقدار\n",
    "print(squared_data)"
   ]
  },
  {
   "cell_type": "markdown",
   "id": "12915419",
   "metadata": {},
   "source": [
    "<div dir='rtl'>\n",
    "\n",
    "⏳ **کند، زیرا پردازش روی هر مقدار جداگانه انجام می‌شود.**\n",
    "\n",
    "🚀 **➤ مثال با NumPy (بهینه):**\n",
    "\n",
    "</div>"
   ]
  },
  {
   "cell_type": "code",
   "execution_count": null,
   "id": "2cab18e6",
   "metadata": {},
   "outputs": [],
   "source": [
    "import numpy as np\n",
    "data = np.array([1, 2, 3, 4, 5])\n",
    "squared_data = data**2  # محاسبه برداری سریع\n",
    "print(squared_data)"
   ]
  },
  {
   "cell_type": "markdown",
   "id": "a11df72f",
   "metadata": {},
   "source": [
    "<div dir='rtl'>\n",
    "\n",
    "⚡ **سریع‌تر، زیرا تمام عناصر به‌صورت همزمان پردازش می‌شوند.**\n",
    "\n",
    "---\n",
    "\n",
    "### **📌 ۲. استفاده از Broadcasting**\n",
    "**Broadcasting** به NumPy اجازه می‌دهد عملیات ریاضی را بدون نیاز به حلقه روی **چندین آرایه با اندازه‌های متفاوت** اجرا کند.\n",
    "\n",
    "🚀 **➤ مثال با Broadcasting:**\n",
    "\n",
    "</div>"
   ]
  },
  {
   "cell_type": "code",
   "execution_count": 15,
   "id": "228852bb",
   "metadata": {},
   "outputs": [
    {
     "name": "stdout",
     "output_type": "stream",
     "text": [
      "[[2 4 6]\n",
      " [5 7 9]]\n"
     ]
    }
   ],
   "source": [
    "import numpy as np\n",
    "matrix = np.array([[1, 2, 3], [4, 5, 6]])\n",
    "vector = np.array([1, 2, 3])\n",
    "result = matrix + vector  # Broadcasting در مقیاس ماتریسی\n",
    "print(result)"
   ]
  },
  {
   "cell_type": "markdown",
   "id": "d46e616c",
   "metadata": {},
   "source": [
    "<div dir='rtl'>\n",
    "\n",
    "✅ **Broadcasting** باعث اجرای عملیات بدون نیاز به حلقه دستی می‌شود.\n",
    "\n",
    "---\n",
    "\n",
    "### **📌 ۳. استفاده از توابع بهینه‌شده NumPy**\n",
    "توابع داخلی NumPy بسیار سریع‌تر از حلقه‌های معمولی Python هستند. همیشه از توابع آماده‌ی NumPy برای پردازش داده‌ها استفاده کنید.\n",
    "\n",
    "🔹 **➤ مثال توابع سریع NumPy:**\n",
    "\n",
    "</div>"
   ]
  },
  {
   "cell_type": "code",
   "execution_count": 16,
   "id": "8262fd72",
   "metadata": {},
   "outputs": [],
   "source": [
    "import numpy as np\n",
    "arr = np.random.rand(1000000)  # تولید آرایه تصادفی بزرگ\n",
    "mean_value = np.mean(arr)  # محاسبه میانگین با عملکرد بهینه\n",
    "std_dev = np.std(arr)  # محاسبه انحراف معیار"
   ]
  },
  {
   "cell_type": "markdown",
   "id": "061cafe1",
   "metadata": {},
   "source": [
    "<div dir='rtl'>\n",
    "\n",
    "💡 **استفاده از توابع NumPy به جای حلقه‌های دستی، پردازش داده را چندین برابر سریع‌تر می‌کند.**\n",
    "\n",
    "---\n",
    "\n",
    "### **📌 ۴. استفاده از نوع داده‌های بهینه (`dtype`)**\n",
    "انتخاب صحیح **نوع داده (`dtype`)** تأثیر مستقیمی بر **سرعت اجرا و مصرف حافظه** دارد.\n",
    "\n",
    "🔹 **➤ مثال بهینه‌سازی `dtype`:**\n",
    "\n",
    "</div>"
   ]
  },
  {
   "cell_type": "code",
   "execution_count": 17,
   "id": "7fe60143",
   "metadata": {},
   "outputs": [
    {
     "name": "stdout",
     "output_type": "stream",
     "text": [
      "float32\n"
     ]
    }
   ],
   "source": [
    "import numpy as np\n",
    "arr = np.array([1, 2, 3], dtype=np.float32)  # استفاده از float32 بجای float64\n",
    "print(arr.dtype)  # نمایش نوع داده"
   ]
  },
  {
   "cell_type": "markdown",
   "id": "33e830e8",
   "metadata": {},
   "source": [
    "<div dir='rtl'>\n",
    "\n",
    "✅ استفاده از **`float32`** به جای **`float64`** مصرف حافظه را کاهش داده و محاسبات عددی سریع‌تر انجام می‌شود.\n",
    "\n",
    "---\n",
    "\n",
    "### **📌 ۵. استفاده از `numexpr` برای پردازش‌های پیچیده**\n",
    "در پردازش‌های بسیار سنگین، می‌توان از **`numexpr`** که از چندین پردازنده استفاده می‌کند، کمک گرفت.\n",
    "\n",
    "🔹 **➤ نصب `numexpr`:**\n",
    "\n",
    "</div>"
   ]
  },
  {
   "cell_type": "code",
   "execution_count": 18,
   "id": "353fd682",
   "metadata": {},
   "outputs": [
    {
     "name": "stdout",
     "output_type": "stream",
     "text": [
      "Defaulting to user installation because normal site-packages is not writeable\n",
      "Collecting numexpr\n",
      "  Downloading numexpr-2.11.0-cp312-cp312-win_amd64.whl.metadata (9.2 kB)\n",
      "Requirement already satisfied: numpy>=1.23.0 in c:\\users\\kara\\appdata\\local\\packages\\pythonsoftwarefoundation.python.3.12_qbz5n2kfra8p0\\localcache\\local-packages\\python312\\site-packages (from numexpr) (2.3.0)\n",
      "Downloading numexpr-2.11.0-cp312-cp312-win_amd64.whl (146 kB)\n",
      "Installing collected packages: numexpr\n",
      "Successfully installed numexpr-2.11.0\n"
     ]
    }
   ],
   "source": [
    "!pip install numexpr"
   ]
  },
  {
   "cell_type": "markdown",
   "id": "66fdd3af",
   "metadata": {},
   "source": [
    "<div dir='rtl'>\n",
    "\n",
    "🔹 **➤ استفاده از `numexpr` برای محاسبات بسیار سریع‌تر:**\n",
    "\n",
    "</div>"
   ]
  },
  {
   "cell_type": "code",
   "execution_count": 19,
   "id": "8369a418",
   "metadata": {},
   "outputs": [],
   "source": [
    "import numpy as np\n",
    "import numexpr as ne\n",
    "\n",
    "arr = np.random.rand(1000000)\n",
    "result = ne.evaluate(\"arr**2 + 3*arr - 5\")  # اجرای عملیات بهینه‌شده"
   ]
  },
  {
   "cell_type": "markdown",
   "id": "4db33790",
   "metadata": {},
   "source": [
    "<div dir='rtl'>\n",
    "\n",
    "⚡ **`numexpr` پردازش‌های پیچیده را چندین برابر سریع‌تر می‌کند.**\n",
    "\n",
    "</div>"
   ]
  },
  {
   "cell_type": "markdown",
   "id": "f03ff6b3",
   "metadata": {},
   "source": [
    "<div dir='rtl'>\n",
    "\n",
    "\n",
    "\n",
    "</div>"
   ]
  },
  {
   "cell_type": "markdown",
   "id": "9602e67d",
   "metadata": {},
   "source": [
    "<div dir='rtl'>\n",
    "\n",
    "\n",
    "\n",
    "</div>"
   ]
  },
  {
   "cell_type": "markdown",
   "id": "98914611",
   "metadata": {},
   "source": [
    "<div dir='rtl'>\n",
    "\n",
    "\n",
    "\n",
    "</div>"
   ]
  },
  {
   "cell_type": "markdown",
   "id": "9653e6c4",
   "metadata": {},
   "source": [
    "<div dir='rtl'>\n",
    "\n",
    "\n",
    "\n",
    "</div>"
   ]
  },
  {
   "cell_type": "markdown",
   "id": "0dd12a66",
   "metadata": {},
   "source": [
    "<div dir='rtl'>\n",
    "\n",
    "\n",
    "\n",
    "</div>"
   ]
  },
  {
   "cell_type": "markdown",
   "id": "27bc128d",
   "metadata": {},
   "source": [
    "<div dir='rtl'>\n",
    "\n",
    "\n",
    "\n",
    "</div>"
   ]
  },
  {
   "cell_type": "markdown",
   "id": "350781ec",
   "metadata": {},
   "source": [
    "<div dir='rtl'>\n",
    "\n",
    "\n",
    "\n",
    "</div>"
   ]
  },
  {
   "cell_type": "markdown",
   "id": "598eb94b",
   "metadata": {},
   "source": [
    "<div dir='rtl'>\n",
    "\n",
    "\n",
    "\n",
    "</div>"
   ]
  },
  {
   "cell_type": "markdown",
   "id": "dd1057be",
   "metadata": {},
   "source": [
    "<div dir='rtl'>\n",
    "\n",
    "\n",
    "\n",
    "</div>"
   ]
  },
  {
   "cell_type": "markdown",
   "id": "afe0bd42",
   "metadata": {},
   "source": [
    "<div dir='rtl'>\n",
    "\n",
    "\n",
    "\n",
    "</div>"
   ]
  }
 ],
 "metadata": {
  "kernelspec": {
   "display_name": "Python 3",
   "language": "python",
   "name": "python3"
  },
  "language_info": {
   "codemirror_mode": {
    "name": "ipython",
    "version": 3
   },
   "file_extension": ".py",
   "mimetype": "text/x-python",
   "name": "python",
   "nbconvert_exporter": "python",
   "pygments_lexer": "ipython3",
   "version": "3.12.10"
  }
 },
 "nbformat": 4,
 "nbformat_minor": 5
}
