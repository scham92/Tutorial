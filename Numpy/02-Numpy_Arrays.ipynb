{
 "cells": [
  {
   "cell_type": "markdown",
   "id": "ed491ab6",
   "metadata": {},
   "source": [
    "<div align=\"center\">\n",
    "  <img src=\"https://upload.wikimedia.org/wikipedia/commons/3/31/NumPy_logo_2020.svg\" alt=\"لوگو\" width=\"500\">\n",
    "</div>\n",
    "\n",
    "\n",
    "<div dir='rtl'>\n",
    "\n",
    "# آموزش کاربردی NUMPY با محوریت علوم داده و محاسبات عددی\n",
    "\n",
    "## **جلسه دوم** آرایه ها و عملیات پایه\n",
    "\n",
    "### مدت زمان مطالعه  \n",
    "\n",
    "مدت زمان مورد نیاز برای مطالعه این صفحه **20 تا 30 دقیقه** است. این مدت زمان بسته به سطح آشنایی شما با **Python** و موضوعات مرتبط ممکن است متغیر باشد.  \n",
    "\n",
    "\n",
    "**تهیه‌کننده:** سجاد چمن‌آرا  \n",
    "\n",
    "---\n",
    "\n",
    "</div>"
   ]
  },
  {
   "cell_type": "markdown",
   "id": "8d8b4d86",
   "metadata": {},
   "source": [
    "<div dir='rtl'>\n",
    "\n",
    "### **🔹 آرایه‌ها در NumPy (`ndarray`)**\n",
    "\n",
    "در **NumPy**، آرایه‌ها (`ndarray`) جایگزینی قدرتمند برای لیست‌های معمولی **Python** هستند که امکان اجرای سریع و بهینه‌ی **محاسبات عددی** را فراهم می‌کنند. \n",
    "\n",
    "---\n",
    "### **📌 ۱. ساخت آرایه‌ی یک‌بعدی (1D Array)**\n",
    "آرایه‌های **یک‌بعدی** مشابه لیست‌های معمولی پایتون هستند اما قابلیت پردازش عددی سریع‌تری دارند:\n",
    "\n",
    "</div>"
   ]
  },
  {
   "cell_type": "code",
   "execution_count": 2,
   "id": "cd02b80a",
   "metadata": {},
   "outputs": [
    {
     "name": "stdout",
     "output_type": "stream",
     "text": [
      "[1 2 3 4 5]\n",
      "(5,)\n"
     ]
    }
   ],
   "source": [
    "import numpy as np\n",
    "\n",
    "arr1 = np.array([1, 2, 3, 4, 5])  # آرایه یک‌بعدی\n",
    "print(arr1)\n",
    "print(arr1.shape)  # نمایش ابعاد آرایه"
   ]
  },
  {
   "cell_type": "markdown",
   "id": "774ee6c5",
   "metadata": {},
   "source": [
    "<div dir='rtl'>\n",
    "\n",
    "---\n",
    "\n",
    "### **📌 ۲. ساخت آرایه‌ی دوبعدی (2D Array)**\n",
    "برای ساخت **ماتریس‌های دو‌بعدی** (ماتریس `m x n`) از آرایه‌های چندسطری استفاده می‌شود:\n",
    "\n",
    "</div>"
   ]
  },
  {
   "cell_type": "code",
   "execution_count": 3,
   "id": "e647607c",
   "metadata": {},
   "outputs": [
    {
     "name": "stdout",
     "output_type": "stream",
     "text": [
      "[[1 2 3]\n",
      " [4 5 6]]\n",
      "(2, 3)\n"
     ]
    }
   ],
   "source": [
    "arr2 = np.array([[1, 2, 3], [4, 5, 6]])  # ماتریس ۲×۳\n",
    "print(arr2)\n",
    "print(arr2.shape)  # نمایش ابعاد ماتریس"
   ]
  },
  {
   "cell_type": "markdown",
   "id": "468bfc11",
   "metadata": {},
   "source": [
    "<div dir='rtl'>\n",
    "\n",
    "📌 تعداد بعدها: `shape = (2, 3)`  \n",
    "\n",
    "---\n",
    "\n",
    "### **📌 ۳. ساخت آرایه‌ی چندبعدی (3D Array)**\n",
    "در NumPy می‌توان آرایه‌های **سه‌بعدی و بالاتر** ایجاد کرد:\n",
    "\n",
    "</div>"
   ]
  },
  {
   "cell_type": "code",
   "execution_count": 4,
   "id": "83c2f916",
   "metadata": {},
   "outputs": [
    {
     "name": "stdout",
     "output_type": "stream",
     "text": [
      "[[[1 2]\n",
      "  [3 4]]\n",
      "\n",
      " [[5 6]\n",
      "  [7 8]]]\n",
      "(2, 2, 2)\n"
     ]
    }
   ],
   "source": [
    "arr3 = np.array([[[1, 2], [3, 4]], [[5, 6], [7, 8]]])  # آرایه ۲×۲×۲\n",
    "print(arr3)\n",
    "print(arr3.shape)  # نمایش ابعاد"
   ]
  },
  {
   "cell_type": "markdown",
   "id": "b75d55a3",
   "metadata": {},
   "source": [
    "<div dir='rtl'>\n",
    "\n",
    "📌 تعداد بعدها: `shape = (2, 2, 2)`\n",
    "\n",
    "---\n",
    "\n",
    "### **📌 ۴. روش‌های دیگر برای ایجاد آرایه‌ها**\n",
    "- **ایجاد آرایه با مقدار صفر یا یک:**  \n",
    "\n",
    "</div>"
   ]
  },
  {
   "cell_type": "code",
   "execution_count": 5,
   "id": "4fc27f4a",
   "metadata": {},
   "outputs": [
    {
     "data": {
      "text/plain": [
       "array([[1., 1.],\n",
       "       [1., 1.]])"
      ]
     },
     "execution_count": 5,
     "metadata": {},
     "output_type": "execute_result"
    }
   ],
   "source": [
    "np.zeros((3, 3))  # ماتریس ۳×۳ شامل صفرها\n",
    "np.ones((2, 2))  # ماتریس ۲×۲ شامل یک‌ها"
   ]
  },
  {
   "cell_type": "markdown",
   "id": "f8d6efff",
   "metadata": {},
   "source": [
    "<div dir='rtl'>\n",
    "\n",
    "- **ایجاد آرایه با بازه‌ی مشخص:**  \n",
    "\n",
    "</div>"
   ]
  },
  {
   "cell_type": "code",
   "execution_count": 6,
   "id": "ab4babde",
   "metadata": {},
   "outputs": [
    {
     "data": {
      "text/plain": [
       "array([0.  , 0.25, 0.5 , 0.75, 1.  ])"
      ]
     },
     "execution_count": 6,
     "metadata": {},
     "output_type": "execute_result"
    }
   ],
   "source": [
    "np.arange(1, 10, 2)  # آرایه با گام ۲ → [1 3 5 7 9]\n",
    "np.linspace(0, 1, 5)  # آرایه با ۵ مقدار بین ۰ و ۱"
   ]
  },
  {
   "cell_type": "markdown",
   "id": "bc764326",
   "metadata": {},
   "source": [
    "<div dir='rtl'>\n",
    "\n",
    "- **ایجاد آرایه تصادفی:**  \n",
    "\n",
    "</div>"
   ]
  },
  {
   "cell_type": "code",
   "execution_count": 7,
   "id": "d7daf3b8",
   "metadata": {},
   "outputs": [
    {
     "data": {
      "text/plain": [
       "array([[0.07189126, 0.99696887, 0.61474566],\n",
       "       [0.95479458, 0.24258723, 0.81603799],\n",
       "       [0.25620899, 0.86862976, 0.42783441]])"
      ]
     },
     "execution_count": 7,
     "metadata": {},
     "output_type": "execute_result"
    }
   ],
   "source": [
    "np.random.rand(3, 3)  # ماتریس ۳×۳ با اعداد تصادفی بین ۰ و ۱"
   ]
  },
  {
   "cell_type": "markdown",
   "id": "8064dd23",
   "metadata": {},
   "source": [
    "<div dir='rtl'>\n",
    "\n",
    "### **🚀 نتیجه‌گیری**\n",
    "آرایه‌های NumPy قابلیت پردازش **یک‌بعدی، دوبعدی و چندبعدی** را دارند و برای **محاسبات عددی و هوش مصنوعی** بسیار **بهینه** هستند.\n",
    "\n",
    "---\n",
    "\n",
    "\n",
    "### **📌 ۱. Indexing (دسترسی به عناصر آرایه)**\n",
    "برای انتخاب **یک مقدار خاص** از آرایه‌ها می‌توان از **ایندکس‌ها** استفاده کرد.\n",
    "\n",
    "🔹 **➤ انتخاب مقدار خاص در آرایه یک‌بعدی (1D Array)**:\n",
    "\n",
    "</div>"
   ]
  },
  {
   "cell_type": "code",
   "execution_count": 8,
   "id": "15e37466",
   "metadata": {},
   "outputs": [
    {
     "name": "stdout",
     "output_type": "stream",
     "text": [
      "10\n",
      "50\n"
     ]
    }
   ],
   "source": [
    "import numpy as np\n",
    "\n",
    "arr = np.array([10, 20, 30, 40, 50])\n",
    "print(arr[0])  # مقدار اولین عنصر → 10\n",
    "print(arr[-1]) # مقدار آخرین عنصر → 50"
   ]
  },
  {
   "cell_type": "markdown",
   "id": "2fc3260f",
   "metadata": {},
   "source": [
    "<div dir='rtl'>\n",
    "\n",
    "📌 از **ایندکس منفی** (`-1`) برای دسترسی به **آخرین مقدار** استفاده می‌شود.\n",
    "\n",
    "🔹 **➤ انتخاب مقدار خاص در آرایه دوبعدی (2D Array)**:\n",
    "\n",
    "</div>"
   ]
  },
  {
   "cell_type": "code",
   "execution_count": 9,
   "id": "2e311d22",
   "metadata": {},
   "outputs": [
    {
     "name": "stdout",
     "output_type": "stream",
     "text": [
      "2\n",
      "6\n"
     ]
    }
   ],
   "source": [
    "arr2D = np.array([[1, 2, 3], [4, 5, 6]])\n",
    "\n",
    "print(arr2D[0, 1])  # مقدار ردیف اول، ستون دوم → 2\n",
    "print(arr2D[1, -1]) # مقدار آخرین ستون در ردیف دوم → 6"
   ]
  },
  {
   "cell_type": "markdown",
   "id": "859dbec9",
   "metadata": {},
   "source": [
    "<div dir='rtl'>\n",
    "\n",
    "📌 فرمت `[row, column]` برای انتخاب مقدار از **ماتریس‌های چندبعدی** استفاده می‌شود.\n",
    "\n",
    "---\n",
    "\n",
    "### **📌 ۲. Slicing (بریدن بخش‌هایی از آرایه)**\n",
    "Slicing برای انتخاب **بخش خاصی** از آرایه‌ها بدون نیاز به حلقه‌های `for` استفاده می‌شود.\n",
    "\n",
    "🔹 **➤ بریدن آرایه یک‌بعدی:**\n",
    "\n",
    "</div>"
   ]
  },
  {
   "cell_type": "code",
   "execution_count": 10,
   "id": "ef3fba7c",
   "metadata": {},
   "outputs": [
    {
     "name": "stdout",
     "output_type": "stream",
     "text": [
      "[20 30 40]\n",
      "[10 20 30]\n",
      "[30 40 50]\n",
      "[10 30 50]\n"
     ]
    }
   ],
   "source": [
    "arr = np.array([10, 20, 30, 40, 50])\n",
    "\n",
    "print(arr[1:4])  # انتخاب عناصر 1 تا 3 → [20 30 40]\n",
    "print(arr[:3])   # انتخاب 3 مقدار اول → [10 20 30]\n",
    "print(arr[2:])   # انتخاب از ایندکس ۲ به بعد → [30 40 50]\n",
    "print(arr[::2])  # انتخاب با گام ۲ → [10 30 50]"
   ]
  },
  {
   "cell_type": "markdown",
   "id": "ac4a4917",
   "metadata": {},
   "source": [
    "<div dir='rtl'>\n",
    "\n",
    "🔹 **➤ بریدن آرایه دوبعدی:**\n",
    "\n",
    "</div>"
   ]
  },
  {
   "cell_type": "code",
   "execution_count": 11,
   "id": "816a1a20",
   "metadata": {},
   "outputs": [
    {
     "name": "stdout",
     "output_type": "stream",
     "text": [
      "[[2 3]\n",
      " [5 6]]\n",
      "[1 4 7]\n",
      "[[4 5]\n",
      " [7 8]]\n"
     ]
    }
   ],
   "source": [
    "arr2D = np.array([[1, 2, 3], [4, 5, 6], [7, 8, 9]])\n",
    "\n",
    "print(arr2D[:2, 1:])  # انتخاب ۲ ردیف اول و ستون‌های دوم به بعد\n",
    "print(arr2D[:, 0])    # انتخاب تمام مقادیر **ستون اول**\n",
    "print(arr2D[1:, :2])  # انتخاب **ردیف‌های ۱ به بعد** و **۲ ستون اول**"
   ]
  },
  {
   "cell_type": "markdown",
   "id": "de256eb7",
   "metadata": {},
   "source": [
    "<div dir='rtl'>\n",
    "\n",
    "---\n",
    "\n",
    "### **📌 ۳. انتخاب شرطی با Masking**\n",
    "با **شرط‌های منطقی** می‌توان مقدارهای خاصی را **فیلتر** کرد.\n",
    "\n",
    "🔹 **➤ انتخاب مقادیر بزرگتر از ۵:**\n",
    "\n",
    "</div>"
   ]
  },
  {
   "cell_type": "code",
   "execution_count": 12,
   "id": "42c70a0f",
   "metadata": {},
   "outputs": [
    {
     "name": "stdout",
     "output_type": "stream",
     "text": [
      "[10 15 20]\n"
     ]
    }
   ],
   "source": [
    "arr = np.array([1, 5, 10, 15, 20])\n",
    "\n",
    "print(arr[arr > 5])  # انتخاب مقادیر بزرگتر از ۵ → [10 15 20]"
   ]
  },
  {
   "cell_type": "markdown",
   "id": "06523001",
   "metadata": {},
   "source": [
    "<div dir='rtl'>\n",
    "\n",
    "🔹 **➤ فیلتر داده‌های خاص:**\n",
    "\n",
    "</div>"
   ]
  },
  {
   "cell_type": "code",
   "execution_count": 13,
   "id": "2747c062",
   "metadata": {},
   "outputs": [
    {
     "name": "stdout",
     "output_type": "stream",
     "text": [
      "[20 40]\n"
     ]
    }
   ],
   "source": [
    "arr = np.array([10, 20, 30, 40, 50])\n",
    "\n",
    "mask = arr % 20 == 0  # مقادیر مضرب ۲۰\n",
    "print(arr[mask])  # خروجی → [20 40]"
   ]
  },
  {
   "cell_type": "markdown",
   "id": "379568b5",
   "metadata": {},
   "source": [
    "<div dir='rtl'>\n",
    "\n",
    "🚀 **Masking در پردازش داده‌های یادگیری ماشین و هوش مصنوعی بسیار کاربردی است.**\n",
    "\n",
    "---\n",
    "\n",
    "### **🚀 نتیجه‌گیری**\n",
    "**Indexing و Slicing در NumPy** به شما امکان می‌دهد که داده‌ها را به سرعت **انتخاب، پردازش و فیلتر** کنید، بدون نیاز به حلقه‌های کند Python.\n",
    "\n",
    "---\n",
    "\n",
    "### **🔹 تغییر شکل آرایه‌ها و عملیات پایه در NumPy**\n",
    "\n",
    "در **NumPy**، امکان **تغییر شکل آرایه‌ها** بدون تغییر مقدار داده‌ها وجود دارد. این ویژگی در **پردازش داده‌ها، یادگیری ماشین و شبکه‌های عصبی** بسیار مهم است.\n",
    "\n",
    "---\n",
    "\n",
    "### **📌 ۱. `reshape()` – تغییر شکل آرایه**\n",
    "🔹 **`reshape()`** ابعاد آرایه را تغییر می‌دهد.\n",
    "\n",
    "</div>"
   ]
  },
  {
   "cell_type": "code",
   "execution_count": 14,
   "id": "d27e8000",
   "metadata": {},
   "outputs": [
    {
     "name": "stdout",
     "output_type": "stream",
     "text": [
      "[[1 2 3]\n",
      " [4 5 6]]\n"
     ]
    }
   ],
   "source": [
    "import numpy as np\n",
    "\n",
    "arr = np.array([1, 2, 3, 4, 5, 6])\n",
    "\n",
    "reshaped = arr.reshape(2, 3)  # تبدیل آرایه 1D به 2D (۲×۳)\n",
    "print(reshaped)"
   ]
  },
  {
   "cell_type": "markdown",
   "id": "09d85584",
   "metadata": {},
   "source": [
    "<div dir='rtl'>\n",
    "\n",
    "📌 باید تعداد عناصر **هماهنگ با شکل جدید** باشد.\n",
    "\n",
    "---\n",
    "\n",
    "### **📌 ۲. `ravel()` – تبدیل آرایه چندبعدی به یک‌بعدی**\n",
    "🔹 **`ravel()`** آرایه را بدون تغییر مقدار، به **یک‌بعدی** تبدیل می‌کند.\n",
    "\n",
    "</div>"
   ]
  },
  {
   "cell_type": "code",
   "execution_count": 15,
   "id": "b36c858b",
   "metadata": {},
   "outputs": [
    {
     "name": "stdout",
     "output_type": "stream",
     "text": [
      "[1 2 3 4 5 6]\n"
     ]
    }
   ],
   "source": [
    "arr = np.array([[1, 2, 3], [4, 5, 6]])\n",
    "\n",
    "flattened = arr.ravel()\n",
    "print(flattened)"
   ]
  },
  {
   "cell_type": "markdown",
   "id": "99bda8ca",
   "metadata": {},
   "source": [
    "<div dir='rtl'>\n",
    "\n",
    "📌 `ravel()` شبیه `reshape(-1)` است، اما آرایه **را تغییر نمی‌دهد**.\n",
    "\n",
    "---\n",
    "\n",
    "### **📌 ۳. `flatten()` – تبدیل آرایه چندبعدی به یک‌بعدی**\n",
    "🔹 **`flatten()`** مشابه `ravel()` است، اما یک **کپی مستقل** از داده می‌سازد.\n",
    "\n",
    "</div>"
   ]
  },
  {
   "cell_type": "code",
   "execution_count": 16,
   "id": "011c5f9c",
   "metadata": {},
   "outputs": [
    {
     "name": "stdout",
     "output_type": "stream",
     "text": [
      "[1 2 3 4 5 6]\n"
     ]
    }
   ],
   "source": [
    "flat_arr = arr.flatten()\n",
    "print(flat_arr)"
   ]
  },
  {
   "cell_type": "markdown",
   "id": "84a272f7",
   "metadata": {},
   "source": [
    "<div dir='rtl'>\n",
    "\n",
    "📌 تفاوت با `ravel()`: `flatten()` یک **کپی مستقل** ایجاد می‌کند، اما `ravel()` **اشاره‌ای به داده‌ی اصلی** دارد.\n",
    "\n",
    "---\n",
    "\n",
    "### **📌 ۴. `transpose()` – جابجایی سطر و ستون**\n",
    "🔹 **`transpose()`** ماتریس را **برعکس** می‌کند:\n",
    "\n",
    "</div>"
   ]
  },
  {
   "cell_type": "code",
   "execution_count": 17,
   "id": "b08cb816",
   "metadata": {},
   "outputs": [
    {
     "name": "stdout",
     "output_type": "stream",
     "text": [
      "[[1 4]\n",
      " [2 5]\n",
      " [3 6]]\n"
     ]
    }
   ],
   "source": [
    "arr = np.array([[1, 2, 3], [4, 5, 6]])\n",
    "\n",
    "transposed = arr.T  # معادل arr.transpose()\n",
    "print(transposed)"
   ]
  },
  {
   "cell_type": "markdown",
   "id": "31c1e90c",
   "metadata": {},
   "source": [
    "<div dir='rtl'>\n",
    "\n",
    "📌 استفاده در **شبکه‌های عصبی و پردازش تصویر** کاربرد زیادی دارد.\n",
    "\n",
    "---\n",
    "\n",
    "### **📌 ۵. تغییر تعداد ابعاد (`expand_dims`)**\n",
    "🔹 با **`expand_dims()`** می‌توان به آرایه **یک بُعد اضافه کرد**.\n",
    "\n",
    "</div>"
   ]
  },
  {
   "cell_type": "code",
   "execution_count": 18,
   "id": "b075dd7d",
   "metadata": {},
   "outputs": [
    {
     "name": "stdout",
     "output_type": "stream",
     "text": [
      "(1, 3)\n"
     ]
    }
   ],
   "source": [
    "arr = np.array([1, 2, 3])\n",
    "expanded = np.expand_dims(arr, axis=0)  # تبدیل به ماتریس ۱×۳\n",
    "print(expanded.shape)  # خروجی: (1, 3)"
   ]
  },
  {
   "cell_type": "markdown",
   "id": "aa816daf",
   "metadata": {},
   "source": [
    "<div dir='rtl'>\n",
    "\n",
    "📌 **`axis=0`** → اضافه‌کردن ردیف  \n",
    "📌 **`axis=1`** → اضافه‌کردن ستون  \n",
    "\n",
    "---\n",
    "\n",
    "### **🚀 نتیجه‌گیری**\n",
    "با توابع **`reshape()`، `ravel()`، `transpose()` و `expand_dims()`** می‌توان **ساختار آرایه‌ها را مدیریت کرد** و برای **پردازش داده‌های هوش مصنوعی و یادگیری ماشین** آماده ساخت.\n",
    "\n",
    "</div>"
   ]
  }
 ],
 "metadata": {
  "kernelspec": {
   "display_name": "Python 3",
   "language": "python",
   "name": "python3"
  },
  "language_info": {
   "codemirror_mode": {
    "name": "ipython",
    "version": 3
   },
   "file_extension": ".py",
   "mimetype": "text/x-python",
   "name": "python",
   "nbconvert_exporter": "python",
   "pygments_lexer": "ipython3",
   "version": "3.12.10"
  }
 },
 "nbformat": 4,
 "nbformat_minor": 5
}
